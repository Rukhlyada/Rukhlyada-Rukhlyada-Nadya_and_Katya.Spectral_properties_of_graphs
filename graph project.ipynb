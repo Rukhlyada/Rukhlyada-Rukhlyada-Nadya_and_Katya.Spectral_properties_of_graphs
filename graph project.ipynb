{
 "cells": [
  {
   "cell_type": "code",
   "execution_count": 1,
   "metadata": {},
   "outputs": [],
   "source": [
    "import os\n",
    "import numpy as np"
   ]
  },
  {
   "cell_type": "code",
   "execution_count": 2,
   "metadata": {},
   "outputs": [],
   "source": [
    "def get_eigen_values(matrix):\n",
    "    return np.linalg.eig(matrix)[0]"
   ]
  },
  {
   "cell_type": "code",
   "execution_count": 3,
   "metadata": {},
   "outputs": [],
   "source": [
    "def get_eigen_vector(matrix):\n",
    "    return np.linalg.eig(matrix)[1]"
   ]
  },
  {
   "cell_type": "code",
   "execution_count": 4,
   "metadata": {},
   "outputs": [],
   "source": [
    "def get_triangles_number(matrix):\n",
    "    return np.trace(np.linalg.matrix_power(matrix, 3))/6"
   ]
  },
  {
   "cell_type": "code",
   "execution_count": 5,
   "metadata": {},
   "outputs": [],
   "source": [
    "def get_independencies_ub(matrix):\n",
    "    k = np.count_nonzero(matrix[0])\n",
    "    return len(matrix)/(1 - k/min(get_eigen_values(matrix)))"
   ]
  },
  {
   "cell_type": "code",
   "execution_count": 6,
   "metadata": {},
   "outputs": [],
   "source": [
    "def get_triangles(matrix):\n",
    "    n = len(matrix)\n",
    "    for a in range(0, n):\n",
    "        for b in range(a + 1, n):\n",
    "            if not matrix[a][b]:\n",
    "                continue\n",
    "            for c in range(b + 1, n):\n",
    "                if matrix[b][c] and matrix[a][c]:\n",
    "                    print(a + 1, b + 1, c + 1)"
   ]
  },
  {
   "cell_type": "code",
   "execution_count": null,
   "metadata": {},
   "outputs": [],
   "source": []
  }
 ],
 "metadata": {
  "kernelspec": {
   "display_name": "Python 3",
   "language": "python",
   "name": "python3"
  },
  "language_info": {
   "codemirror_mode": {
    "name": "ipython",
    "version": 3
   },
   "file_extension": ".py",
   "mimetype": "text/x-python",
   "name": "python",
   "nbconvert_exporter": "python",
   "pygments_lexer": "ipython3",
   "version": "3.8.5"
  }
 },
 "nbformat": 4,
 "nbformat_minor": 4
}
